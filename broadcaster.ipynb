{
  "cells": [
    {
      "cell_type": "markdown",
      "metadata": {
        "id": "dMp79YUJIiN9"
      },
      "source": [
        "**<h1>What can this version of Postman do?</h1>**\n",
        "\n",
        "\n",
        "\n",
        "*   **Easily customize messages to reach a wide audience**: Create a message template, upload a file containing customization parameters, and we will handle the rest for you.\n",
        "*   **View stats**: Keep track of your campaign's progress as it is sending and check back when it is completed.\n"
      ]
    },
    {
      "cell_type": "markdown",
      "metadata": {
        "id": "Rsj2qljYJyJa"
      },
      "source": [
        "**<h1>Does Postman send messages to everyone who subscribes to the bot?</h1>**\n",
        "\n",
        "You can control who you contact through your Telegram bot by uploading the mobile number of the recipients. Postman converts the phone number you uploaded to Telegram user IDs and sends your message to Telegram bot subscribers."
      ]
    },
    {
      "cell_type": "markdown",
      "metadata": {
        "id": "s_d2HbhpHI3C"
      },
      "source": [
        "**<h1>Getting started</h1>**\n",
        "\n",
        "The document you are reading is not a static web page, but an interactive environment called a Colab notebook that lets you write and execute code.\n",
        "If this is your first time using a notebook, please read the instructions carefully, don't skip me!\n",
        "\n",
        "To execute the code in a cell, select it with a click and then either press the play button to the left of the code, or use the keyboard shortcut \"Command/Ctrl+Enter\".\n",
        "\n",
        "\n",
        "---\n",
        "\n",
        "\n",
        "\n",
        "In order for us to \"connect\" with our telegram bot through our python notebook, we have to install a package so that we can \"talk\" with the telegram Application Programming Interface (API)!"
      ]
    },
    {
      "cell_type": "code",
      "execution_count": null,
      "metadata": {
        "cellView": "form",
        "id": "mnkdrvH6VqDP"
      },
      "outputs": [],
      "source": [
        "# @title <h1>Install Packages</h1>\n",
        "!pip install python-telegram-bot==20.6\n",
        "!pip install psycopg2-binary==2.9.9\n",
        "!pip install pandas==1.5.3\n",
        "!pip install sqlalchemy==1.4.50\n",
        "\n",
        "import pandas as pd\n",
        "from sqlalchemy import create_engine\n",
        "import psycopg2\n",
        "import telegram\n",
        "from telegram import Bot\n",
        "import asyncio\n",
        "import logging\n",
        "from time import time\n",
        "from asyncio import sleep, Lock\n",
        "from google.colab import output, userdata\n",
        "from io import StringIO\n",
        "from telegram.ext import ApplicationBuilder, BaseRateLimiter\n",
        "from telegram.request import HTTPXRequest\n",
        "output.clear()"
      ]
    },
    {
      "cell_type": "markdown",
      "metadata": {
        "id": "K_BKVBHhmHHo"
      },
      "source": [
        "<h1>Upload Recipient List</h1>\n",
        "\n",
        "Find the icon on the left of your screen to upload your Recipient List\n",
        "\n",
        "<div align=\"right\">\n",
        "    <img src=\"https://blog.roboflow.com/content/images/2020/10/upload.png\" />\n",
        "</div>"
      ]
    },
    {
      "cell_type": "code",
      "execution_count": null,
      "metadata": {
        "cellView": "form",
        "id": "Hhi7YqLduDfH"
      },
      "outputs": [],
      "source": [
        "# @title <h1>Input file name of recipient list</h1> { form-width: \"50%\" }\n",
        "recipient_list_filename = \"xxxxxx\" # @param {type:\"string\"}\n",
        "db_params = {\n",
        "    'dbname':\"postgres\",\n",
        "    'user':userdata.get('user'),\n",
        "    'password':userdata.get('password'),\n",
        "    'host':userdata.get('host'),\n",
        "    'port':\"port\"\n",
        "}\n",
        "\n",
        "db_uri = f\"postgresql://{db_params['user']}:{db_params['password']}@{db_params['host']}:{db_params['port']}/{db_params['dbname']}\"\n",
        "\n",
        "engine = create_engine(db_uri)\n",
        "\n",
        "query = \"SELECT telegram_id, phone_number FROM subscriber_list\"\n",
        "\n",
        "subscriber_list = pd.read_sql(query, engine)\n",
        "\n",
        "subscriber_list['phone_number'] = subscriber_list['phone_number'].apply(lambda x: str(x).replace(\"-\", \"\").strip())\n",
        "subscriber_list.rename(columns={'phone_number': 'Mobile No'}, inplace=True)\n",
        "\n",
        "#read recepient spreadsheet\n",
        "df_recipient_list = pd.read_excel(recipient_list_filename)\n",
        "df_recipient_list['Mobile No'] = df_recipient_list['Mobile No'].apply(lambda x: str(x).replace(\"-\", \"\").strip())\n",
        "\n",
        "# Join the dataframes on the phone_numbers column\n",
        "merged_df = pd.merge(df_recipient_list, subscriber_list, on='Mobile No', how='inner')"
      ]
    },
    {
      "cell_type": "markdown",
      "metadata": {
        "id": "P-ifW4DHHRF9"
      },
      "source": [
        "<h1>Create Message Template</h1>\n",
        "\n",
        "To personalise your message, include keywords that are surrounded by {curly braces}. <u>**The keywords in your message template should match the headers in your recipients excel file.**</u>\n",
        "\n",
        "```\n",
        "Dear {Name}, your mobile number is {phone_number} and your telegram ID is {telegram_id}.\n",
        "```\n",
        "\n",
        "To format your message, refer to the following:\n",
        "\n",
        "```\n",
        "<b>bold</b>\n",
        "\n",
        "<i>italic</i>\n",
        "\n",
        "<u>underline</u>\n",
        "\n",
        "<s>strikethrough</s>\n",
        "\n",
        "<span class=\"tg-spoiler\">spoiler</span>\n",
        "\n",
        "<a href=\"http://www.example.com/\">inline URL</a>\n",
        "```\n",
        "\n"
      ]
    },
    {
      "cell_type": "markdown",
      "metadata": {
        "id": "jmBWJ1gGw-Jw"
      },
      "source": [
        "<H1>DOUBLE CLICK ME TO FORMAT YOUR TEXT</H1>\n",
        "<h2>PREVIEW TO YOUR RIGHT</h2>\n",
        "<H3>When you're done, just paste the entire block into the message_template below</H3>\n",
        "===================================================================================================================================\n",
        "\n",
        "<b><u>📝 Test Message</u></b>\n",
        "\n",
        "<b>Dear {Name},</b>\n",
        "\n",
        "<b>this is bold</b>\n",
        "\n",
        "<i>this is italic</i>\n",
        "\n",
        "<u>underline</u>\n",
        "\n",
        "<s>strikethrough</s>\n",
        "\n",
        "<span class=\"tg-spoiler\">this is new!</span> - Click on the moving dots to reveal - <span class=\"tg-spoiler\">spoiler effect</span>\n",
        "\n",
        "\n",
        "You should not be able to copy or forward this message - do try it out and let us know if you succeed 😜"
      ]
    },
    {
      "cell_type": "code",
      "execution_count": null,
      "metadata": {
        "cellView": "form",
        "id": "TolwaRPL8QTe"
      },
      "outputs": [],
      "source": [
        "# @title <h1>Create Message_Template</h1>\n",
        "\n",
        "message_template = \"\"\"<b><u>📝 Test Message</u></b>\n",
        "\n",
        "<b>Dear {Name},</b>\n",
        "\n",
        "<b>this is bold</b>\n",
        "\n",
        "<i>this is italic</i>\n",
        "\n",
        "<u>underline</u>\n",
        "\n",
        "<s>strikethrough</s>\n",
        "\n",
        "<span class=\"tg-spoiler\">this is new!</span> - Click on the moving dots to reveal - <span class=\"tg-spoiler\">spoiler effect</span>\n",
        "\n",
        "\n",
        "You should not be able to copy or forward this message\"\"\""
      ]
    },
    {
      "cell_type": "code",
      "execution_count": null,
      "metadata": {
        "cellView": "form",
        "id": "U9JJzpdNMw6C"
      },
      "outputs": [],
      "source": [
        "your_bot_token = userdata.get('bot_token')"
      ]
    },
    {
      "cell_type": "code",
      "execution_count": null,
      "metadata": {
        "cellView": "form",
        "id": "W3oTbZtxown3"
      },
      "outputs": [],
      "source": [
        "# @title <h1>Send a preview message</h1>\n",
        "test_number = \"xxxxxxxx\" # @param {type:\"string\"}\n",
        "\n",
        "# SEND TEST MESSAGE\n",
        "\n",
        "async def main():\n",
        "\n",
        "    bot = Bot(token=your_bot_token)\n",
        "\n",
        "    for index, row in merged_df.iterrows():\n",
        "      if row['Mobile No'] == test_number:\n",
        "\n",
        "        row_dict = row.to_dict()\n",
        "        text = message_template.format(**row_dict)\n",
        "\n",
        "        await bot.send_message(chat_id=row['telegram_id'], text=text, parse_mode='html', protect_content=True)\n",
        "\n",
        "# Run the main function\n",
        "await main()\n"
      ]
    },
    {
      "cell_type": "code",
      "execution_count": null,
      "metadata": {
        "id": "xugqnD2vvE8c"
      },
      "outputs": [],
      "source": [
        "# @title <h1>Send Campaign</h1>\n",
        "\n",
        "# Initialize logging\n",
        "logging.basicConfig(level=logging.INFO, format='%(asctime)s - %(name)s - %(levelname)s - %(message)s')\n",
        "logger = logging.getLogger()\n",
        "successful_messages = 0\n",
        "\n",
        "# Custom rate limiter\n",
        "class MyRateLimiter(BaseRateLimiter):\n",
        "    def __init__(self):\n",
        "        self.lock = asyncio.Lock()\n",
        "        self.bucket_capacity = 20  # Max 20 tokens (messages)\n",
        "        self.tokens = 20  # Starts full\n",
        "        self.last_refill_time = time()\n",
        "        self.refill_rate = 1 / 20  # 20 messages per second\n",
        "\n",
        "    async def initialize(self) -> None:\n",
        "        pass\n",
        "\n",
        "    async def shutdown(self) -> None:\n",
        "        pass\n",
        "\n",
        "    async def process_request(\n",
        "        self,\n",
        "        callback,\n",
        "        args,\n",
        "        kwargs,\n",
        "        endpoint,\n",
        "        data,\n",
        "        rate_limit_args\n",
        "    ):\n",
        "      async with self.lock:\n",
        "        current_time = time()\n",
        "        time_elapsed = current_time - self.last_refill_time\n",
        "        self.last_refill_time = current_time\n",
        "        self.tokens = min(self.bucket_capacity, self.tokens + time_elapsed / self.refill_rate)\n",
        "\n",
        "        logger.info(f\"Tokens available: {self.tokens}\")\n",
        "\n",
        "        if self.tokens < 1:\n",
        "            sleep_time = (1 - self.tokens) * self.refill_rate\n",
        "            logger.info(f\"Sleeping for {sleep_time} seconds\")\n",
        "            await sleep(sleep_time)\n",
        "\n",
        "        self.tokens -= 1\n",
        "      return await callback(*args, **kwargs)\n",
        "\n",
        "# Async function to send messages\n",
        "async def send_message(bot, row):\n",
        "    global successful_messages\n",
        "    row_dict = row.to_dict()\n",
        "    text = message_template.format(**row_dict)\n",
        "    try:\n",
        "        await bot.send_message(chat_id=row['telegram_id'], text=text, parse_mode='html', protect_content=True)\n",
        "        successful_messages += 1\n",
        "    except telegram.error.BadRequest as e:\n",
        "        logger.error(f\"BadRequest error for {row['Name']}, {row['Mobile No']}: {e}\")\n",
        "    except telegram.error.TelegramError as e:\n",
        "        logger.error(f\"Telegram error for {row['Name']}, {row['Mobile No']}: {e}\")\n",
        "    except Exception as e:\n",
        "        logger.error(f\"An unexpected error occurred for {row['Name']}, {row['Mobile No']}: {e}\")\n",
        "\n",
        "custom_request = HTTPXRequest(\n",
        "    connection_pool_size=25,\n",
        "    read_timeout=10.0,\n",
        "    write_timeout=10.0,\n",
        "    connect_timeout=10.0,\n",
        "    pool_timeout=10.0,\n",
        "    http_version='1.1'\n",
        ")\n",
        "\n",
        "# Initialize application builder\n",
        "application = ApplicationBuilder().token(your_bot_token).rate_limiter(MyRateLimiter()).request(custom_request).build()\n",
        "bot = application.bot\n",
        "\n",
        "async def main():\n",
        "    batch_size = 20  # Set the size of each batch\n",
        "    for i in range(0, len(merged_df), batch_size):\n",
        "        # Create a batch of tasks\n",
        "        batch = merged_df[i:i + batch_size]\n",
        "        tasks = [asyncio.ensure_future(send_message(bot, row)) for index, row in batch.iterrows()]\n",
        "        # Wait for the entire batch of tasks to complete before starting the next\n",
        "        await asyncio.gather(*tasks)\n",
        "        logger.info(f\"Batch {i // batch_size + 1} completed\")\n",
        "\n",
        "    print(f\"Total successful messages sent: {successful_messages}\")\n",
        "\n",
        "# Run the main function\n",
        "await main()"
      ]
    },
    {
      "cell_type": "code",
      "execution_count": null,
      "metadata": {
        "cellView": "form",
        "id": "DeUFPP35OJKO"
      },
      "outputs": [],
      "source": [
        "# @title <h1>View List of Subscribers</h1>\n",
        "merged_df"
      ]
    },
    {
      "cell_type": "code",
      "execution_count": null,
      "metadata": {
        "id": "hT_wvDfZa0Yc"
      },
      "outputs": [],
      "source": [
        "# @title <h1>View List of Non-Subscribers</h1>\n",
        "merged_outer = pd.merge(df_recipient_list, subscriber_list, on='Mobile No', how='outer', indicator=True)\n",
        "non_subscribers = merged_outer[merged_outer['_merge'] == 'left_only']\n",
        "non_subscribers"
      ]
    }
  ],
  "metadata": {
    "colab": {
      "private_outputs": true,
      "provenance": []
    },
    "kernelspec": {
      "display_name": "Python 3",
      "name": "python3"
    },
    "language_info": {
      "name": "python"
    }
  },
  "nbformat": 4,
  "nbformat_minor": 0
}
