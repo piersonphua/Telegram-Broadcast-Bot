{
  "cells": [
    {
      "cell_type": "markdown",
      "metadata": {
        "id": "_Y6ScOSkGJGt"
      },
      "source": [
        "**<h1>Welcome to Telegram Broadcaster Bot!</h1>**\n",
        "\n",
        "It is a mass messaging tool for organisations."
      ]
    },
    {
      "cell_type": "code",
      "execution_count": null,
      "metadata": {
        "id": "mnkdrvH6VqDP"
      },
      "outputs": [],
      "source": [
        "# @title <h1>Install Packages</h1>\n",
        "!pip install python-telegram-bot==20.6\n",
        "!pip install psycopg2-binary==2.9.9\n",
        "!pip install pandas==1.5.3\n",
        "!pip install sqlalchemy==1.4.50\n",
        "!pip install awscli==1.31.12\n",
        "\n",
        "import pandas as pd\n",
        "from sqlalchemy import create_engine\n",
        "import psycopg2\n",
        "from psycopg2 import OperationalError\n",
        "import telegram\n",
        "from telegram import Bot\n",
        "import asyncio\n",
        "import logging\n",
        "from time import time\n",
        "from sys import exit\n",
        "from asyncio import sleep, Lock\n",
        "from google.colab import output, userdata\n",
        "from io import StringIO\n",
        "from telegram.ext import ApplicationBuilder, BaseRateLimiter\n",
        "from telegram.request import HTTPXRequest\n",
        "import threading\n",
        "import subprocess\n",
        "\n",
        "output.clear()"
      ]
    },
    {
      "cell_type": "code",
      "execution_count": null,
      "metadata": {
        "id": "7VebOy3Ukv_9"
      },
      "outputs": [],
      "source": [
        "#time.sleep(2)\n",
        "\n",
        "# @title <h1>Input file name of recipient list</h1> { form-width: \"50%\" }\n",
        "recipient_list_filename = \"recipient_list.xlsx\" # @param {type:\"string\"}\n",
        "db_params = {\n",
        "     'dbname':userdata.get('user'),\n",
        "     'user':userdata.get('user'),\n",
        "     'password':userdata.get('password'),\n",
        "     'host':\"host\",\n",
        "     'port':\"port\"\n",
        "    }\n",
        "\n",
        "db_uri = f\"postgresql://{db_params['user']}:{db_params['password']}@{db_params['host']}:{db_params['port']}/{db_params['dbname']}\"\n",
        "\n",
        "engine = create_engine(db_uri)\n",
        "query = \"SELECT telegram_id, phone_number FROM subscriber_list\"\n",
        "subscriber_list = pd.read_sql(query, engine)\n",
        "\n",
        "subscriber_list['phone_number'] = subscriber_list['phone_number'].apply(lambda x: str(x).replace(\"-\", \"\").strip())\n",
        "subscriber_list.rename(columns={'phone_number': 'Mobile No'}, inplace=True)\n",
        "\n",
        "# #read recepient spreadsheet\n",
        "df_recipient_list = pd.read_excel(recipient_list_filename)\n",
        "df_recipient_list['Mobile No'] = df_recipient_list['Mobile No'].apply(lambda x: str(x).replace(\"-\", \"\").strip())\n",
        "\n",
        "# # Join the dataframes on the phone_numbers column\n",
        "merged_df = pd.merge(df_recipient_list, subscriber_list, on='Mobile No', how='inner')"
      ]
    },
    {
      "cell_type": "markdown",
      "metadata": {
        "id": "K_BKVBHhmHHo"
      },
      "source": [
        "<h1>Upload Recipient List</h1>\n",
        "\n",
        "Find the icon on the left of your screen to upload your Recipient List.\n",
        "\n",
        "<div align=\"right\">\n",
        "    <img src=\"https://blog.roboflow.com/content/images/2020/10/upload.png\" />\n",
        "</div>"
      ]
    },
    {
      "cell_type": "markdown",
      "metadata": {
        "id": "P-ifW4DHHRF9"
      },
      "source": [
        "<h1>Create Message Template</h1>\n",
        "\n",
        "To personalise your message, include keywords that are surrounded by {curly braces}. <u>**The keywords in your message template should match the headers in your recipients excel file.**</u>\n",
        "\n",
        "```\n",
        "Dear {Name}, your mobile number is {Mobile No} and your Rank is {Rank}.\n",
        "```\n",
        "\n",
        "To format your message, refer to the following:\n",
        "\n",
        "```\n",
        "<b>bold</b>\n",
        "\n",
        "<i>italic</i>\n",
        "\n",
        "<u>underline</u>\n",
        "\n",
        "<s>strikethrough</s>\n",
        "\n",
        "<span class=\"tg-spoiler\">spoiler</span>\n",
        "\n",
        "<a href=\"http://www.example.com/\">inline URL</a>\n",
        "```\n",
        "\n"
      ]
    },
    {
      "cell_type": "markdown",
      "metadata": {
        "id": "jmBWJ1gGw-Jw"
      },
      "source": [
        "<H1>DOUBLE CLICK ME TO FORMAT YOUR TEXT</H1>\n",
        "<h2>PREVIEW TO YOUR RIGHT</h2>\n",
        "<H3>When you're done, just paste the entire block into the message_template below</H3>\n",
        "===================================================================================================================================\n",
        "\n",
        "📣<b><u> PREVIEW</u></b>\n",
        "\n",
        "<b>bold</b>\n",
        "\n",
        "<i>italic</i>\n",
        "\n",
        "<u>underline</u>\n",
        "\n",
        "<s>strikethrough</s>\n",
        "\n",
        "<span class=\"tg-spoiler\">spoiler</span>\n",
        "\n",
        "<a href=\"http://www.example.com/\">inline URL</a>\n",
        "\n",
        "\n"
      ]
    },
    {
      "cell_type": "code",
      "execution_count": null,
      "metadata": {
        "id": "TolwaRPL8QTe"
      },
      "outputs": [],
      "source": [
        "# @title <h1>Create Message_Template</h1>\n",
        "\n",
        "message_template = \"\"\"📝 Test Message\n",
        "\n",
        "Dear {Name},\n",
        "\n",
        "this is bold\n",
        "\n",
        "this is italic\n",
        "\n",
        "underline\n",
        "\n",
        "strikethrough\n",
        "\n",
        "this is new! - Click on the moving dots to reveal - spoiler effect\n",
        "\n",
        "\n",
        "You should not be able to copy or forward this message\n",
        "\n",
        "\"\"\""
      ]
    },
    {
      "cell_type": "code",
      "execution_count": null,
      "metadata": {
        "id": "U9JJzpdNMw6C"
      },
      "outputs": [],
      "source": [
        "# @title <h1>Enter your Bot Token</h1>\n",
        "your_bot_token = input(\"Please enter your bot token:\")\n",
        "output.clear()"
      ]
    },
    {
      "cell_type": "code",
      "execution_count": null,
      "metadata": {
        "id": "W3oTbZtxown3"
      },
      "outputs": [],
      "source": [
        "# @title <h1>Send a preview message</h1>\n",
        "test_number = \"xxxxxxxxxx\" # @param {type:\"string\"}\n",
        "\n",
        "# SEND TEST MESSAGE\n",
        "# Initialize logging with a custom handler\n",
        "logger = logging.getLogger()\n",
        "\n",
        "async def main():\n",
        "\n",
        "    bot = Bot(token=your_bot_token)\n",
        "\n",
        "    if test_number in subscriber_list['Mobile No'].values:\n",
        "      for index, row in subscriber_list.iterrows():\n",
        "        if row['Mobile No'] == test_number:\n",
        "\n",
        "          row_dict = row.to_dict()\n",
        "          text = message_template.format(**row_dict)\n",
        "          try:\n",
        "            await bot.send_message(chat_id=row['telegram_id'], text=text, parse_mode='html')\n",
        "            print('PREVIEW MESSAGE SUCCESSFUL')\n",
        "          except telegram.error.BadRequest as e:\n",
        "            logger.error(f\"BadRequest error for {row['Mobile No']}: {e}\")\n",
        "          except telegram.error.TelegramError as e:\n",
        "            logger.error(f\"Telegram error for {row['Mobile No']}: {e}\")\n",
        "          except Exception as e:\n",
        "            logger.error(f\"An unexpected error occurred for {row['Mobile No']}: {e}\")\n",
        "    else:\n",
        "      print('ERROR, test_number not found, please check again!')\n",
        "\n",
        "\n",
        "# Run the main function\n",
        "await main()\n"
      ]
    },
    {
      "cell_type": "code",
      "execution_count": null,
      "metadata": {
        "id": "xugqnD2vvE8c"
      },
      "outputs": [],
      "source": [
        "# @title <h1>Send Campaign</h1>\n",
        "from time import time\n",
        "disable_forwarding = False # @param {type:\"boolean\"}\n",
        "\n",
        "confirmation = input(\"You are about to send the campaign, enter Y to continue: \")\n",
        "if confirmation == 'Y':\n",
        "  print ('ok. Processing...')\n",
        "  pass\n",
        "\n",
        "else:\n",
        "  print(\"Hit the play button again when you're ready\")\n",
        "  exit()\n",
        "\n",
        "class ListHandler(logging.Handler):\n",
        "    def __init__(self):\n",
        "        super().__init__()\n",
        "        self.records = []\n",
        "\n",
        "    def emit(self, record):\n",
        "        self.records.append(self.format(record))\n",
        "\n",
        "# Initialize logging with a custom handler\n",
        "logger = logging.getLogger()\n",
        "\n",
        "list_handler = ListHandler()\n",
        "logger.addHandler(list_handler)\n",
        "\n",
        "formatter = logging.Formatter('%(asctime)s - %(levelname)s - %(message)s')\n",
        "list_handler.setFormatter(formatter)\n",
        "successful_messages = 0\n",
        "\n",
        "# Custom rate limiter\n",
        "class MyRateLimiter(BaseRateLimiter):\n",
        "    def __init__(self):\n",
        "        self.lock = asyncio.Lock()\n",
        "        self.bucket_capacity = 20  # Max 20 tokens (messages)\n",
        "        self.tokens = 20  # Starts full\n",
        "        self.last_refill_time = time()\n",
        "        self.refill_rate = 1 / 20  # 20 messages per second\n",
        "\n",
        "    async def initialize(self) -> None:\n",
        "        pass\n",
        "\n",
        "    async def shutdown(self) -> None:\n",
        "        pass\n",
        "\n",
        "    async def process_request(\n",
        "        self,\n",
        "        callback,\n",
        "        args,\n",
        "        kwargs,\n",
        "        endpoint,\n",
        "        data,\n",
        "        rate_limit_args\n",
        "    ):\n",
        "      async with self.lock:\n",
        "        current_time = time()\n",
        "        time_elapsed = current_time - self.last_refill_time\n",
        "        self.last_refill_time = current_time\n",
        "        self.tokens = min(self.bucket_capacity, self.tokens + time_elapsed / self.refill_rate)\n",
        "\n",
        "        logger.info(f\"Tokens available: {self.tokens}\")\n",
        "\n",
        "        if self.tokens < 1:\n",
        "            sleep_time = (1 - self.tokens) * self.refill_rate\n",
        "            logger.info(f\"Sleeping for {sleep_time} seconds\")\n",
        "            await sleep(sleep_time)\n",
        "\n",
        "        self.tokens -= 1\n",
        "      return await callback(*args, **kwargs)\n",
        "\n",
        "# Async function to send messages\n",
        "async def send_message(bot, row):\n",
        "    global successful_messages\n",
        "    row_dict = row.to_dict()\n",
        "    text = message_template.format(**row_dict)\n",
        "    try:\n",
        "        await bot.send_message(chat_id=row['telegram_id'], text=text, parse_mode='html', protect_content=disable_forwarding)\n",
        "        successful_messages += 1\n",
        "    except telegram.error.BadRequest as e:\n",
        "        logger.error(f\"BadRequest error for {row['Mobile No']}: {e}\")\n",
        "    except telegram.error.TelegramError as e:\n",
        "        logger.error(f\"Telegram error for {row['Mobile No']}: {e}\")\n",
        "    except Exception as e:\n",
        "        logger.error(f\"An unexpected error occurred for {row['Mobile No']}: {e}\")\n",
        "\n",
        "custom_request = HTTPXRequest(\n",
        "    connection_pool_size=25,\n",
        "    read_timeout=10.0,\n",
        "    write_timeout=10.0,\n",
        "    connect_timeout=10.0,\n",
        "    pool_timeout=10.0,\n",
        "    http_version='1.1'\n",
        ")\n",
        "\n",
        "# Initialize application builder\n",
        "application = ApplicationBuilder().token(your_bot_token).rate_limiter(MyRateLimiter()).request(custom_request).build()\n",
        "bot = application.bot\n",
        "\n",
        "async def main():\n",
        "    batch_size = 20  # Set the size of each batch\n",
        "    for i in range(0, len(merged_df), batch_size):\n",
        "        # Create a batch of tasks\n",
        "        batch = merged_df[i:i + batch_size]\n",
        "        tasks = [asyncio.ensure_future(send_message(bot, row)) for index, row in batch.iterrows()]\n",
        "        # Wait for the entire batch of tasks to complete before starting the next\n",
        "        await asyncio.gather(*tasks)\n",
        "        logger.info(f\"Batch {i // batch_size + 1} completed\")\n",
        "\n",
        "    print(f\"Total successful messages sent: {successful_messages} out of {len(df_recipient_list)} ({successful_messages/len(df_recipient_list)*100}%)\")\n",
        "\n",
        "# Run the main function\n",
        "await main()\n",
        "\n",
        "# At the end of your script\n",
        "log_records = [record.split(' - ') for record in list_handler.records]\n",
        "error_logs_df = pd.DataFrame(log_records, columns=['Timestamp', 'Level', 'Message'])\n",
        "\n",
        "# Filter for error logs only\n",
        "error_logs_df = error_logs_df[error_logs_df['Level'] == 'ERROR']"
      ]
    },
    {
      "cell_type": "code",
      "execution_count": null,
      "metadata": {
        "cellView": "form",
        "id": "EpQH1NdEKm7O"
      },
      "outputs": [],
      "source": [
        "# @title <h1>Generate Report</h1>\n",
        "merged_outer = pd.merge(df_recipient_list, subscriber_list, on='Mobile No', how='outer', indicator=True)\n",
        "non_subscribers = merged_outer[merged_outer['_merge'] == 'left_only']\n",
        "\n",
        "error_logs_df[['Type', 'Contact']] = error_logs_df['Message'].str.split(\"for\", expand = True)\n",
        "error_logs_df[['Contact', 'Error']] = error_logs_df['Contact'].str.split(\":\", 1, expand = True)\n",
        "error_logs_df.drop(['Level'], axis=1, inplace=True)\n",
        "\n",
        "non_subscribers.drop(['telegram_id','_merge'], axis=1, inplace=True)\n",
        "\n",
        "with pd.ExcelWriter('campaign_report.xlsx') as writer:\n",
        "  error_logs_df.to_excel(writer, sheet_name='Error Log')\n",
        "  non_subscribers.to_excel(writer, sheet_name='Non-Subscribers')"
      ]
    },
    {
      "cell_type": "markdown",
      "metadata": {
        "id": "KbyTc9R9Lj-7"
      },
      "source": [
        "<h1>Find your report in the column on the left</h1>\n",
        "\n",
        "The report will be titled 'campaign_report.xlsx'. Right click to download!\n",
        "\n",
        "<div align=\"right\">\n",
        "    <img src=\"https://i.stack.imgur.com/2fJaL.png\" />\n",
        "</div>"
      ]
    },
    {
      "cell_type": "code",
      "execution_count": null,
      "metadata": {
        "cellView": "form",
        "id": "DeUFPP35OJKO"
      },
      "outputs": [],
      "source": [
        "# @title <h1>View List of Subscribers</h1>\n",
        "merged_df"
      ]
    },
    {
      "cell_type": "code",
      "execution_count": null,
      "metadata": {
        "cellView": "form",
        "id": "hT_wvDfZa0Yc"
      },
      "outputs": [],
      "source": [
        "# @title <h1>View List of Non-Subscribers</h1>\n",
        "merged_outer = pd.merge(df_recipient_list, subscriber_list, on='Mobile No', how='outer', indicator=True)\n",
        "non_subscribers = merged_outer[merged_outer['_merge'] == 'left_only']\n",
        "non_subscribers"
      ]
    },
    {
      "cell_type": "code",
      "execution_count": null,
      "metadata": {
        "id": "gnKf0INMogAV"
      },
      "outputs": [],
      "source": [
        "subscriber_list['Mobile No']"
      ]
    },
    {
      "cell_type": "code",
      "execution_count": null,
      "metadata": {
        "id": "F9zS7QRWrbSf"
      },
      "outputs": [],
      "source": []
    }
  ],
  "metadata": {
    "colab": {
      "private_outputs": true,
      "provenance": []
    },
    "kernelspec": {
      "display_name": "Python 3",
      "name": "python3"
    },
    "language_info": {
      "name": "python"
    }
  },
  "nbformat": 4,
  "nbformat_minor": 0
}
